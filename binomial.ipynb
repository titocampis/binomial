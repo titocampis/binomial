{
 "cells": [
  {
   "cell_type": "markdown",
   "metadata": {},
   "source": [
    "# Introduction\n",
    "\n",
    "In this Notebook we calculate the probability of any binomial event (driving test, lottery, etc.). We just need to modify the following variables:\n",
    "\n",
    "- *n:* number of Bernoulli experiments\n",
    "- *p:* probability of success\n",
    "- *k* (if we want a fixed k): exact number of successes for which we want to calculate the probability\n",
    "- *u* (from k to n): from how many successes in the Bernoulli experiments it is considered a success for the binomial.\n",
    "\n",
    "For example, in the driving test:\n",
    "\n",
    "- *n* = 30\n",
    "- *p* = $\\frac{1}{6}$\n",
    "- *k*: Not Applicable\n",
    "- *u* = 27\n",
    "\n",
    "We can also use this Notebook simply to read it and understand how a Binomial Random Variable works."
   ]
  },
  {
   "cell_type": "markdown",
   "metadata": {},
   "source": [
    "Sure, here's the translation to English:\n",
    "\n",
    "# Bernoulli Random Variable (RV)\n",
    "\n",
    "Given X as a random variable (RV), it is considered Bernoulli when it measures the outcome of a random experiment with only 2 possible results, called \"*success*\" and \"*failure*\":\n",
    "\n",
    "*   P(\"*success*\") = *p*\n",
    "*   P(\"*failure*\") = *q* = *1 - p*\n",
    "\n",
    "X ∼ B(p)\n",
    "\n",
    "##### Example:\n",
    "* **Experiment:** rolling a die\n",
    "* **Success:** rolling a 3\n",
    "* **Failure:** not rolling a 3\n",
    "\n",
    "X ∼ B(p), *p* = $\\frac{1}{6}$\n",
    "\n",
    "P(X = \"*success*\") = *p* = $\\frac{1}{6}$\n",
    "\n",
    "P(X = \"*failure*\") = *q* = *1 - p* = $\\frac{5}{6}$\n",
    "\n",
    "# Binomial Random Variable (RV)\n",
    "\n",
    "Given X as a random variable (RV), it is considered Binomial when it measures the exact number of successes \"*k*\" in a sequence of \"*n*\" independent Bernoulli experiments, with a fixed probability of success \"*p*\" and a fixed probability of failure \"*q*\".\n",
    "\n",
    "X ∼ BN(*n*, *p*)\n",
    "\n",
    "* *n* : number of Bernoulli experiments\n",
    "* *p* : probability of *success*\n",
    "\n",
    "The probability of *k successes* is calculated as:\n",
    "\n",
    "P(X = *k*) = comb(*n*, *k* ) · p<sup>k</sup> · (1-p)<sup>n-k</sup>\n",
    "\n",
    "> 📎**NOTES:**\n",
    ">\n",
    ">- For more information about the combinatorial number (comb), here is a [doc](https://matemathweb.com/algebra/numero-combinatorio/#:~:text=El%20n%C3%BAmero%20combinatorio%2C%20es%20el,el%20orden%20de%20sus%20elementos.)\n",
    ">\n",
    "> - For more information about the binomial distribution: [doc](https://es.wikipedia.org/wiki/Distribuci%C3%B3n_binomial)\n",
    "\n",
    "##### Example:\n",
    "\n",
    "Assume the rolling of a fair die as a Bernoulli experiment repeated n times and RV X as the number of threes.\n",
    "\n",
    "- *p* = $\\frac{1}{6}$\n",
    "- *q* = 1 - p = $\\frac{5}{6}$\n",
    "\n",
    "P(X = *k*) is the probability that there are *k* threes in a sequence of *n* elements, thus *k* threes and *n - k* of any other number. Since they are independent, the probability of such a sequence is p<sup>k</sup> · q<sup>n-k</sup>, as we multiply the probability of each individual result due to independence.\n",
    "Now we need to add the combinatorial factor (comb(*n*, *k*)), which corresponds to the number of possible ways to arrange this sequence, that is, placing the *k* threes among the rest of the results.\n",
    "\n",
    "# Basic Binomial for fixed k in n tries"
   ]
  },
  {
   "cell_type": "code",
   "execution_count": 4,
   "metadata": {},
   "outputs": [
    {
     "name": "stdout",
     "output_type": "stream",
     "text": [
      "Probabilitat d'exactament 0 encerts en 47: 0.6235253948912 ~ 1 / 2\n"
     ]
    }
   ],
   "source": [
    "# Imports\n",
    "import numpy as np\n",
    "import matplotlib.pyplot as plt\n",
    "import math\n",
    "import warnings\n",
    "\n",
    "# Supressing UserWarning: Unable to import Axes3D. \n",
    "#   This may be due to multiple versions of Matplotlib being installed (e.g. as a system package and as a pip package). \n",
    "#   As a result, the 3D projection is not available.\n",
    "warnings.filterwarnings(\"ignore\", category=UserWarning)\n",
    "\n",
    "# Variables Definition\n",
    "n = 47\n",
    "p = 3/300\n",
    "k = 0\n",
    "u = 3\n",
    "\n",
    "# Probability of a Binomial with a fixed k\n",
    "result = math.comb(n, k) * pow(p,k) * pow(1-p,n-k)\n",
    "print(\"Probabilitat d'exactament\", k, \"encerts en \" + str(n) + \":\", result, \"~ 1 /\", round(1/result))"
   ]
  },
  {
   "cell_type": "markdown",
   "metadata": {},
   "source": [
    "# Probability Distribution Calculation with p, n"
   ]
  },
  {
   "cell_type": "code",
   "execution_count": 5,
   "metadata": {},
   "outputs": [
    {
     "name": "stdout",
     "output_type": "stream",
     "text": [
      "Probabilitats nombre encerts amb p = 0.01 i n = 47\n",
      "P(X = 0) = 0.6235253948912\n",
      "P(X = 1) = 0.29601710666551917\n",
      "P(X = 2) = 0.06877165104350445\n",
      "P(X = 3) = 0.010419947127803707\n",
      "P(X = 4) = 0.0011577719030893005\n",
      "P(X = 5) = 0.00010057412491482815\n",
      "P(X = 6) = 7.111301761654515e-06\n",
      "P(X = 7) = 4.2072636685113294e-07\n",
      "P(X = 8) = 2.1248806406622876e-08\n",
      "P(X = 9) = 9.300824353067252e-10\n",
      "P(X = 10) = 3.5700133880460165e-11\n",
      "P(X = 11) = 1.212952207141438e-12\n",
      "P(X = 12) = 3.675612748913449e-14\n",
      "P(X = 13) = 9.995838866508992e-16\n",
      "P(X = 14) = 2.452081684425005e-17\n",
      "P(X = 15) = 5.449070409833344e-19\n",
      "P(X = 16) = 1.1008223050168375e-20\n",
      "P(X = 17) = 2.0276584346715365e-22\n",
      "P(X = 18) = 3.41356638833592e-24\n",
      "P(X = 19) = 5.262808360539165e-26\n",
      "P(X = 20) = 7.442355257328111e-28\n",
      "P(X = 21) = 9.665396438088458e-30\n",
      "P(X = 22) = 1.153812246971074e-31\n",
      "P(X = 23) = 1.2668118653613019e-33\n",
      "P(X = 24) = 1.279607944809396e-35\n",
      "P(X = 25) = 1.1891306153784287e-37\n",
      "P(X = 26) = 1.0163509533148965e-39\n",
      "P(X = 27) = 7.98479985769279e-42\n",
      "P(X = 28) = 5.761038858364205e-44\n",
      "P(X = 29) = 3.8125997321114555e-46\n",
      "P(X = 30) = 2.3106665043099738e-48\n",
      "P(X = 31) = 1.2799390867797183e-50\n",
      "P(X = 32) = 6.464338822119789e-53\n",
      "P(X = 33) = 2.9680159881174423e-55\n",
      "P(X = 34) = 1.2344689195972725e-57\n",
      "P(X = 35) = 4.631485124030172e-60\n",
      "P(X = 36) = 1.5594226006835593e-62\n",
      "P(X = 37) = 4.682950752803481e-65\n",
      "P(X = 38) = 1.2448034962263376e-67\n",
      "P(X = 39) = 2.9016398513434446e-70\n",
      "P(X = 40) = 5.861898689582716e-73\n",
      "P(X = 41) = 1.0109211832244152e-75\n",
      "P(X = 42) = 1.4587607261535572e-78\n",
      "P(X = 43) = 1.7133670732365016e-81\n",
      "P(X = 44) = 1.5733398285000015e-84\n",
      "P(X = 45) = 1.0594881000000008e-87\n",
      "P(X = 46) = 4.653000000000005e-91\n",
      "P(X = 47) = 1.000000000000001e-94\n",
      "\n"
     ]
    },
    {
     "data": {
      "image/png": "[encoded data removed]",
      "text/plain": [
       "<Figure size 432x288 with 1 Axes>"
      ]
     },
     "metadata": {
      "needs_background": "light"
     },
     "output_type": "display_data"
    },
    {
     "name": "stdout",
     "output_type": "stream",
     "text": [
      "\n",
      "Comprobació (suma de totes les probabilitats = 1) ----> 0.9999999999999996 = 1\n"
     ]
    }
   ],
   "source": [
    "# Calculation of distribution function of binomial with parameters (p,n)\n",
    "results = []\n",
    "print(f\"Probabilitats nombre encerts amb p = {round(p,3)} i n = {n}\")\n",
    "for i in range(0,n+1):\n",
    "  result = math.comb(n, i) * pow(p,i) * pow(1-p,n-i)\n",
    "  results.append(result)\n",
    "  print(f\"P(X = {i}) = {result}\")\n",
    "\n",
    "print()\n",
    "plt.figure(1)\n",
    "axis_x = range(0, n+1)\n",
    "plt.xlabel('Nombre encerts exactes')\n",
    "plt.ylabel('Probabilitats')\n",
    "plt.plot(axis_x, results, 'or')\n",
    "plt.show()\n",
    "\n",
    "# Comprobation\n",
    "print(f\"\\nComprobació (suma de totes les probabilitats = 1) ----> {sum(results)} = 1\")"
   ]
  },
  {
   "cell_type": "markdown",
   "metadata": {},
   "source": [
    "# Calculation of Probability Union of Binomial Probabilities\n",
    "\n",
    "Returning to the example of the die, suppose now we want to calculate the probability not of rolling exactly 3 times (*k* = 3) the number Y, but of rolling at least 2 times the number Y (*k* >= 2).\n",
    "\n",
    "Since we roll the die 5 times (*n* = 5), we would need to sum the probabilities:\n",
    "\n",
    "P(X >= 3) = P(X = 3) + P(X = 4) + P(X = 5)\n",
    "\n",
    "Let's calculate it (even though the individual calculations have already been done previously)."
   ]
  },
  {
   "cell_type": "code",
   "execution_count": 6,
   "metadata": {},
   "outputs": [
    {
     "name": "stdout",
     "output_type": "stream",
     "text": [
      "P(X = 3) = 0.010419947127803707\n",
      "P(X = 4) = 0.0011577719030893005\n",
      "P(X = 5) = 0.00010057412491482815\n",
      "P(X = 6) = 7.111301761654515e-06\n",
      "P(X = 7) = 4.2072636685113294e-07\n",
      "P(X = 8) = 2.1248806406622876e-08\n",
      "P(X = 9) = 9.300824353067252e-10\n",
      "P(X = 10) = 3.5700133880460165e-11\n",
      "P(X = 11) = 1.212952207141438e-12\n",
      "P(X = 12) = 3.675612748913449e-14\n",
      "P(X = 13) = 9.995838866508992e-16\n",
      "P(X = 14) = 2.452081684425005e-17\n",
      "P(X = 15) = 5.449070409833344e-19\n",
      "P(X = 16) = 1.1008223050168375e-20\n",
      "P(X = 17) = 2.0276584346715365e-22\n",
      "P(X = 18) = 3.41356638833592e-24\n",
      "P(X = 19) = 5.262808360539165e-26\n",
      "P(X = 20) = 7.442355257328111e-28\n",
      "P(X = 21) = 9.665396438088458e-30\n",
      "P(X = 22) = 1.153812246971074e-31\n",
      "P(X = 23) = 1.2668118653613019e-33\n",
      "P(X = 24) = 1.279607944809396e-35\n",
      "P(X = 25) = 1.1891306153784287e-37\n",
      "P(X = 26) = 1.0163509533148965e-39\n",
      "P(X = 27) = 7.98479985769279e-42\n",
      "P(X = 28) = 5.761038858364205e-44\n",
      "P(X = 29) = 3.8125997321114555e-46\n",
      "P(X = 30) = 2.3106665043099738e-48\n",
      "P(X = 31) = 1.2799390867797183e-50\n",
      "P(X = 32) = 6.464338822119789e-53\n",
      "P(X = 33) = 2.9680159881174423e-55\n",
      "P(X = 34) = 1.2344689195972725e-57\n",
      "P(X = 35) = 4.631485124030172e-60\n",
      "P(X = 36) = 1.5594226006835593e-62\n",
      "P(X = 37) = 4.682950752803481e-65\n",
      "P(X = 38) = 1.2448034962263376e-67\n",
      "P(X = 39) = 2.9016398513434446e-70\n",
      "P(X = 40) = 5.861898689582716e-73\n",
      "P(X = 41) = 1.0109211832244152e-75\n",
      "P(X = 42) = 1.4587607261535572e-78\n",
      "P(X = 43) = 1.7133670732365016e-81\n",
      "P(X = 44) = 1.5733398285000015e-84\n",
      "P(X = 45) = 1.0594881000000008e-87\n",
      "P(X = 46) = 4.653000000000005e-91\n",
      "P(X = 47) = 1.000000000000001e-94\n",
      "\n"
     ]
    },
    {
     "data": {
      "image/png": "[encoded data removed]",
      "text/plain": [
       "<Figure size 432x288 with 1 Axes>"
      ]
     },
     "metadata": {
      "needs_background": "light"
     },
     "output_type": "display_data"
    },
    {
     "name": "stdout",
     "output_type": "stream",
     "text": [
      "\n",
      "P(X >= 3) = P(X = 3) + P(X = 4) + P(X = 5) + P(X = 6) + P(X = 7) + P(X = 8) + P(X = 9) + P(X = 10) + P(X = 11) + P(X = 12) + P(X = 13) + P(X = 14) + P(X = 15) + P(X = 16) + P(X = 17) + P(X = 18) + P(X = 19) + P(X = 20) + P(X = 21) + P(X = 22) + P(X = 23) + P(X = 24) + P(X = 25) + P(X = 26) + P(X = 27) + P(X = 28) + P(X = 29) + P(X = 30) + P(X = 31) + P(X = 32) + P(X = 33) + P(X = 34) + P(X = 35) + P(X = 36) + P(X = 37) + P(X = 38) + P(X = 39) + P(X = 40) + P(X = 41) + P(X = 42) + P(X = 43) + P(X = 44) + P(X = 45) + P(X = 46) + P(X = 47)\n",
      "          = 0.010419947127803707 + 0.0011577719030893005 + 0.00010057412491482815 + 7.111301761654515e-06 + 4.2072636685113294e-07 + 2.1248806406622876e-08 + 9.300824353067252e-10 + 3.5700133880460165e-11 + 1.212952207141438e-12 + 3.675612748913449e-14 + 9.995838866508992e-16 + 2.452081684425005e-17 + 5.449070409833344e-19 + 1.1008223050168375e-20 + 2.0276584346715365e-22 + 3.41356638833592e-24 + 5.262808360539165e-26 + 7.442355257328111e-28 + 9.665396438088458e-30 + 1.153812246971074e-31 + 1.2668118653613019e-33 + 1.279607944809396e-35 + 1.1891306153784287e-37 + 1.0163509533148965e-39 + 7.98479985769279e-42 + 5.761038858364205e-44 + 3.8125997321114555e-46 + 2.3106665043099738e-48 + 1.2799390867797183e-50 + 6.464338822119789e-53 + 2.9680159881174423e-55 + 1.2344689195972725e-57 + 4.631485124030172e-60 + 1.5594226006835593e-62 + 4.682950752803481e-65 + 1.2448034962263376e-67 + 2.9016398513434446e-70 + 5.861898689582716e-73 + 1.0109211832244152e-75 + 1.4587607261535572e-78 + 1.7133670732365016e-81 + 1.5733398285000015e-84 + 1.0594881000000008e-87 + 4.653000000000005e-91 + 1.000000000000001e-94\n",
      "          = 0.011685847399776047\n"
     ]
    }
   ],
   "source": [
    "accu = 0\n",
    "probs_vector = []\n",
    "print_vector = []\n",
    "for i in range(u,n+1):\n",
    "  print(f\"P(X = {i}) = {results[i]}\") # Using the previous calculated results\n",
    "  probs_vector.append(results[i])\n",
    "  print_vector.append(f\"P(X = {i})\")\n",
    "  accu += results[i]\n",
    "\n",
    "##################     Plot    ##################\n",
    "print()\n",
    "plt.figure(1)\n",
    "axis_x = range(u,n+1)\n",
    "plt.bar(axis_x, probs_vector)\n",
    "plt.xticks(axis_x) # Set the tick labels to be the same as the values of axis_x\n",
    "\n",
    "# Add text annotations above each column\n",
    "for i, prob in zip(axis_x, probs_vector):\n",
    "    if prob >= 0.00001: prob = round(prob,5)\n",
    "    elif prob >= 0.000000001: prob = round(prob,9)\n",
    "    else: prob = round(prob,15)\n",
    "    plt.text(i, prob, str(prob), ha='center', va='bottom')\n",
    "plt.show()\n",
    "##################################################\n",
    "\n",
    "print(f\"\\nP(X >= {u}) = {' + '.join(map(str, print_vector))}\\n          = {' + '.join(map(str, probs_vector))}\\n          = {accu}\")"
   ]
  }
 ],
 "metadata": {
  "kernelspec": {
   "display_name": "Python 3",
   "language": "python",
   "name": "python3"
  },
  "language_info": {
   "codemirror_mode": {
    "name": "ipython",
    "version": 3
   },
   "file_extension": ".py",
   "mimetype": "text/x-python",
   "name": "python",
   "nbconvert_exporter": "python",
   "pygments_lexer": "ipython3",
   "version": "3.10.12"
  }
 },
 "nbformat": 4,
 "nbformat_minor": 2
}
