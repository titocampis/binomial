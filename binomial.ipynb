{
 "cells": [
  {
   "cell_type": "markdown",
   "metadata": {},
   "source": [
    "# Introduction\n",
    "\n",
    "In this Notebook we calculate the probability of any binomial event (driving test, lottery, etc.). We just need to modify the following variables:\n",
    "\n",
    "- *n:* number of Bernoulli experiments\n",
    "- *p:* probability of success\n",
    "- *k* (if we want a fixed k): exact number of successes for which we want to calculate the probability\n",
    "- *u* (from k to n): from how many successes in the Bernoulli experiments it is considered a success for the binomial.\n",
    "\n",
    "For example, in the driving test:\n",
    "\n",
    "- *n* = 30\n",
    "- *p* = $\\frac{1}{6}$\n",
    "- *k*: Not Applicable\n",
    "- *u* = 27\n",
    "\n",
    "We can also use this Notebook simply to read it and understand how a Binomial Random Variable works."
   ]
  },
  {
   "cell_type": "markdown",
   "metadata": {},
   "source": [
    "Sure, here's the translation to English:\n",
    "\n",
    "# Bernoulli Random Variable (RV)\n",
    "\n",
    "Given X as a random variable (RV), it is considered Bernoulli when it measures the outcome of a random experiment with only 2 possible results, called \"*success*\" and \"*failure*\":\n",
    "\n",
    "*   P(\"*success*\") = *p*\n",
    "*   P(\"*failure*\") = *q* = *1 - p*\n",
    "\n",
    "X ∼ B(p)\n",
    "\n",
    "##### Example:\n",
    "* **Experiment:** rolling a die\n",
    "* **Success:** rolling a 3\n",
    "* **Failure:** not rolling a 3\n",
    "\n",
    "X ∼ B(p), *p* = $\\frac{1}{6}$\n",
    "\n",
    "P(X = \"*success*\") = *p* = $\\frac{1}{6}$\n",
    "\n",
    "P(X = \"*failure*\") = *q* = *1 - p* = $\\frac{5}{6}$\n",
    "\n",
    "# Binomial Random Variable (RV)\n",
    "\n",
    "Given X as a random variable (RV), it is considered Binomial when it measures the exact number of successes \"*k*\" in a sequence of \"*n*\" independent Bernoulli experiments, with a fixed probability of success \"*p*\" and a fixed probability of failure \"*q*\".\n",
    "\n",
    "X ∼ BN(*n*, *p*)\n",
    "\n",
    "* *n* : number of Bernoulli experiments\n",
    "* *p* : probability of *success*\n",
    "\n",
    "The probability of *k successes* is calculated as:\n",
    "\n",
    "P(X = *k*) = comb(*n*, *k* ) · p<sup>k</sup> · (1-p)<sup>n-k</sup>\n",
    "\n",
    "> 📎**NOTES:**\n",
    ">\n",
    ">- For more information about the combinatorial number (comb), here is a [doc](https://matemathweb.com/algebra/numero-combinatorio/#:~:text=El%20n%C3%BAmero%20combinatorio%2C%20es%20el,el%20orden%20de%20sus%20elementos.)\n",
    ">\n",
    "> - For more information about the binomial distribution: [doc](https://es.wikipedia.org/wiki/Distribuci%C3%B3n_binomial)\n",
    "\n",
    "##### Example:\n",
    "\n",
    "Assume the rolling of a fair die as a Bernoulli experiment repeated n times and RV X as the number of threes.\n",
    "\n",
    "- *p* = $\\frac{1}{6}$\n",
    "- *q* = 1 - p = $\\frac{5}{6}$\n",
    "\n",
    "P(X = *k*) is the probability that there are *k* threes in a sequence of *n* elements, thus *k* threes and *n - k* of any other number. Since they are independent, the probability of such a sequence is p<sup>k</sup> · q<sup>n-k</sup>, as we multiply the probability of each individual result due to independence.\n",
    "Now we need to add the combinatorial factor (comb(*n*, *k*)), which corresponds to the number of possible ways to arrange this sequence, that is, placing the *k* threes among the rest of the results.\n",
    "\n",
    "# Basic Binomial for fixed k in n tries"
   ]
  },
  {
   "cell_type": "code",
   "execution_count": 10,
   "metadata": {},
   "outputs": [
    {
     "name": "stdout",
     "output_type": "stream",
     "text": [
      "Probabilitat d'exactament 1 encerts en 47: 0.3668586818183116 ~ 1 / 3\n"
     ]
    }
   ],
   "source": [
    "# Imports\n",
    "import numpy as np\n",
    "import matplotlib.pyplot as plt\n",
    "import math\n",
    "import warnings\n",
    "\n",
    "# Supressing UserWarning: Unable to import Axes3D. \n",
    "#   This may be due to multiple versions of Matplotlib being installed (e.g. as a system package and as a pip package). \n",
    "#   As a result, the 3D projection is not available.\n",
    "warnings.filterwarnings(\"ignore\", category=UserWarning)\n",
    "\n",
    "# Variables Definition\n",
    "n = 47\n",
    "p = 9/500\n",
    "k = 1\n",
    "u = 1\n",
    "\n",
    "# Probability of a Binomial with a fixed k\n",
    "result = math.comb(n, k) * pow(p,k) * pow(1-p,n-k)\n",
    "print(\"Probabilitat d'exactament\", k, \"encerts en \" + str(n) + \":\", result, \"~ 1 /\", round(1/result))"
   ]
  },
  {
   "cell_type": "markdown",
   "metadata": {},
   "source": [
    "# Probability Distribution Calculation with p, n"
   ]
  },
  {
   "cell_type": "code",
   "execution_count": 11,
   "metadata": {},
   "outputs": [
    {
     "name": "stdout",
     "output_type": "stream",
     "text": [
      "Probabilitats nombre encerts amb p = 0.018 i n = 47\n",
      "P(X = 0) = 0.4258335999356761\n",
      "P(X = 1) = 0.3668586818183116\n",
      "P(X = 2) = 0.15466343612299488\n",
      "P(X = 3) = 0.042524570013450724\n",
      "P(X = 4) = 0.008574200471143833\n",
      "P(X = 5) = 0.0013516153084858098\n",
      "P(X = 6) = 0.00017342518214787377\n",
      "P(X = 7) = 1.861911324194513e-05\n",
      "P(X = 8) = 1.706436040504136e-06\n",
      "P(X = 9) = 1.3554176289136723e-07\n",
      "P(X = 10) = 9.440994482453683e-09\n",
      "P(X = 11) = 5.820868658872572e-10\n",
      "P(X = 12) = 3.2008850058973405e-11\n",
      "P(X = 13) = 1.5796314849720547e-12\n",
      "P(X = 14) = 7.031818946776965e-14\n",
      "P(X = 15) = 2.8356418563377575e-15\n",
      "P(X = 16) = 1.0395428393906241e-16\n",
      "P(X = 17) = 3.474690933149444e-18\n",
      "P(X = 18) = 1.0615145416953494e-19\n",
      "P(X = 19) = 2.9698284423034218e-21\n",
      "P(X = 20) = 7.621148344811222e-23\n",
      "P(X = 21) = 1.796080930840003e-24\n",
      "P(X = 22) = 3.8907881671594214e-26\n",
      "P(X = 23) = 7.751946671485608e-28\n",
      "P(X = 24) = 1.4209270884596836e-29\n",
      "P(X = 25) = 2.3961866176061464e-31\n",
      "P(X = 26) = 3.716473055663615e-33\n",
      "P(X = 27) = 5.298434091577455e-35\n",
      "P(X = 28) = 6.9371409403836305e-37\n",
      "P(X = 29) = 8.331000075887358e-39\n",
      "P(X = 30) = 9.162403342116442e-41\n",
      "P(X = 31) = 9.209958027355731e-43\n",
      "P(X = 32) = 8.440898395743541e-45\n",
      "P(X = 33) = 7.032779629854828e-47\n",
      "P(X = 34) = 5.308076155275598e-49\n",
      "P(X = 35) = 3.6138778595708173e-51\n",
      "P(X = 36) = 2.2080720119577296e-53\n",
      "P(X = 37) = 1.2032758803534717e-55\n",
      "P(X = 38) = 5.804203517623134e-58\n",
      "P(X = 39) = 2.4551699040549055e-60\n",
      "P(X = 40) = 9.000622866189064e-63\n",
      "P(X = 41) = 2.816746513188172e-65\n",
      "P(X = 42) = 7.375827354871558e-68\n",
      "P(X = 43) = 1.5720751715493777e-70\n",
      "P(X = 44) = 2.619640167366117e-73\n",
      "P(X = 45) = 3.201189613889348e-76\n",
      "P(X = 46) = 2.5512004361112312e-79\n",
      "P(X = 47) = 9.949648535338684e-83\n",
      "\n"
     ]
    },
    {
     "data": {
      "image/png": "[encoded data removed]",
      "text/plain": [
       "<Figure size 432x288 with 1 Axes>"
      ]
     },
     "metadata": {
      "needs_background": "light"
     },
     "output_type": "display_data"
    },
    {
     "name": "stdout",
     "output_type": "stream",
     "text": [
      "\n",
      "Comprobació (suma de totes les probabilitats = 1) ----> 0.9999999999999991 = 1\n"
     ]
    }
   ],
   "source": [
    "# Calculation of distribution function of binomial with parameters (p,n)\n",
    "results = []\n",
    "print(f\"Probabilitats nombre encerts amb p = {round(p,3)} i n = {n}\")\n",
    "for i in range(0,n+1):\n",
    "  result = math.comb(n, i) * pow(p,i) * pow(1-p,n-i)\n",
    "  results.append(result)\n",
    "  print(f\"P(X = {i}) = {result}\")\n",
    "\n",
    "print()\n",
    "plt.figure(1)\n",
    "axis_x = range(0, n+1)\n",
    "plt.xlabel('Nombre encerts exactes')\n",
    "plt.ylabel('Probabilitats')\n",
    "plt.plot(axis_x, results, 'or')\n",
    "plt.show()\n",
    "\n",
    "# Comprobation\n",
    "print(f\"\\nComprobació (suma de totes les probabilitats = 1) ----> {sum(results)} = 1\")"
   ]
  },
  {
   "cell_type": "markdown",
   "metadata": {},
   "source": [
    "# Calculation of Probability Union of Binomial Probabilities\n",
    "\n",
    "Returning to the example of the die, suppose now we want to calculate the probability not of rolling exactly 3 times (*k* = 3) the number Y, but of rolling at least 2 times the number Y (*k* >= 2).\n",
    "\n",
    "Since we roll the die 5 times (*n* = 5), we would need to sum the probabilities:\n",
    "\n",
    "P(X >= 3) = P(X = 3) + P(X = 4) + P(X = 5)\n",
    "\n",
    "Let's calculate it (even though the individual calculations have already been done previously)."
   ]
  },
  {
   "cell_type": "code",
   "execution_count": 12,
   "metadata": {},
   "outputs": [
    {
     "name": "stdout",
     "output_type": "stream",
     "text": [
      "P(X = 1) = 0.3668586818183116\n",
      "P(X = 2) = 0.15466343612299488\n",
      "P(X = 3) = 0.042524570013450724\n",
      "P(X = 4) = 0.008574200471143833\n",
      "P(X = 5) = 0.0013516153084858098\n",
      "P(X = 6) = 0.00017342518214787377\n",
      "P(X = 7) = 1.861911324194513e-05\n",
      "P(X = 8) = 1.706436040504136e-06\n",
      "P(X = 9) = 1.3554176289136723e-07\n",
      "P(X = 10) = 9.440994482453683e-09\n",
      "P(X = 11) = 5.820868658872572e-10\n",
      "P(X = 12) = 3.2008850058973405e-11\n",
      "P(X = 13) = 1.5796314849720547e-12\n",
      "P(X = 14) = 7.031818946776965e-14\n",
      "P(X = 15) = 2.8356418563377575e-15\n",
      "P(X = 16) = 1.0395428393906241e-16\n",
      "P(X = 17) = 3.474690933149444e-18\n",
      "P(X = 18) = 1.0615145416953494e-19\n",
      "P(X = 19) = 2.9698284423034218e-21\n",
      "P(X = 20) = 7.621148344811222e-23\n",
      "P(X = 21) = 1.796080930840003e-24\n",
      "P(X = 22) = 3.8907881671594214e-26\n",
      "P(X = 23) = 7.751946671485608e-28\n",
      "P(X = 24) = 1.4209270884596836e-29\n",
      "P(X = 25) = 2.3961866176061464e-31\n",
      "P(X = 26) = 3.716473055663615e-33\n",
      "P(X = 27) = 5.298434091577455e-35\n",
      "P(X = 28) = 6.9371409403836305e-37\n",
      "P(X = 29) = 8.331000075887358e-39\n",
      "P(X = 30) = 9.162403342116442e-41\n",
      "P(X = 31) = 9.209958027355731e-43\n",
      "P(X = 32) = 8.440898395743541e-45\n",
      "P(X = 33) = 7.032779629854828e-47\n",
      "P(X = 34) = 5.308076155275598e-49\n",
      "P(X = 35) = 3.6138778595708173e-51\n",
      "P(X = 36) = 2.2080720119577296e-53\n",
      "P(X = 37) = 1.2032758803534717e-55\n",
      "P(X = 38) = 5.804203517623134e-58\n",
      "P(X = 39) = 2.4551699040549055e-60\n",
      "P(X = 40) = 9.000622866189064e-63\n",
      "P(X = 41) = 2.816746513188172e-65\n",
      "P(X = 42) = 7.375827354871558e-68\n",
      "P(X = 43) = 1.5720751715493777e-70\n",
      "P(X = 44) = 2.619640167366117e-73\n",
      "P(X = 45) = 3.201189613889348e-76\n",
      "P(X = 46) = 2.5512004361112312e-79\n",
      "P(X = 47) = 9.949648535338684e-83\n",
      "\n"
     ]
    },
    {
     "data": {
      "image/png": "[encoded data removed]",
      "text/plain": [
       "<Figure size 432x288 with 1 Axes>"
      ]
     },
     "metadata": {
      "needs_background": "light"
     },
     "output_type": "display_data"
    },
    {
     "name": "stdout",
     "output_type": "stream",
     "text": [
      "\n",
      "P(X >= 1) = P(X = 1) + P(X = 2) + P(X = 3) + P(X = 4) + P(X = 5) + P(X = 6) + P(X = 7) + P(X = 8) + P(X = 9) + P(X = 10) + P(X = 11) + P(X = 12) + P(X = 13) + P(X = 14) + P(X = 15) + P(X = 16) + P(X = 17) + P(X = 18) + P(X = 19) + P(X = 20) + P(X = 21) + P(X = 22) + P(X = 23) + P(X = 24) + P(X = 25) + P(X = 26) + P(X = 27) + P(X = 28) + P(X = 29) + P(X = 30) + P(X = 31) + P(X = 32) + P(X = 33) + P(X = 34) + P(X = 35) + P(X = 36) + P(X = 37) + P(X = 38) + P(X = 39) + P(X = 40) + P(X = 41) + P(X = 42) + P(X = 43) + P(X = 44) + P(X = 45) + P(X = 46) + P(X = 47)\n",
      "          = 0.3668586818183116 + 0.15466343612299488 + 0.042524570013450724 + 0.008574200471143833 + 0.0013516153084858098 + 0.00017342518214787377 + 1.861911324194513e-05 + 1.706436040504136e-06 + 1.3554176289136723e-07 + 9.440994482453683e-09 + 5.820868658872572e-10 + 3.2008850058973405e-11 + 1.5796314849720547e-12 + 7.031818946776965e-14 + 2.8356418563377575e-15 + 1.0395428393906241e-16 + 3.474690933149444e-18 + 1.0615145416953494e-19 + 2.9698284423034218e-21 + 7.621148344811222e-23 + 1.796080930840003e-24 + 3.8907881671594214e-26 + 7.751946671485608e-28 + 1.4209270884596836e-29 + 2.3961866176061464e-31 + 3.716473055663615e-33 + 5.298434091577455e-35 + 6.9371409403836305e-37 + 8.331000075887358e-39 + 9.162403342116442e-41 + 9.209958027355731e-43 + 8.440898395743541e-45 + 7.032779629854828e-47 + 5.308076155275598e-49 + 3.6138778595708173e-51 + 2.2080720119577296e-53 + 1.2032758803534717e-55 + 5.804203517623134e-58 + 2.4551699040549055e-60 + 9.000622866189064e-63 + 2.816746513188172e-65 + 7.375827354871558e-68 + 1.5720751715493777e-70 + 2.619640167366117e-73 + 3.201189613889348e-76 + 2.5512004361112312e-79 + 9.949648535338684e-83\n",
      "          = 0.5741664000643232\n"
     ]
    }
   ],
   "source": [
    "accu = 0\n",
    "probs_vector = []\n",
    "print_vector = []\n",
    "for i in range(u,n+1):\n",
    "  print(f\"P(X = {i}) = {results[i]}\") # Using the previous calculated results\n",
    "  probs_vector.append(results[i])\n",
    "  print_vector.append(f\"P(X = {i})\")\n",
    "  accu += results[i]\n",
    "\n",
    "##################     Plot    ##################\n",
    "print()\n",
    "plt.figure(1)\n",
    "axis_x = range(u,n+1)\n",
    "plt.bar(axis_x, probs_vector)\n",
    "plt.xticks(axis_x) # Set the tick labels to be the same as the values of axis_x\n",
    "\n",
    "# Add text annotations above each column\n",
    "for i, prob in zip(axis_x, probs_vector):\n",
    "    if prob >= 0.00001: prob = round(prob,5)\n",
    "    elif prob >= 0.000000001: prob = round(prob,9)\n",
    "    else: prob = round(prob,15)\n",
    "    plt.text(i, prob, str(prob), ha='center', va='bottom')\n",
    "plt.show()\n",
    "##################################################\n",
    "\n",
    "print(f\"\\nP(X >= {u}) = {' + '.join(map(str, print_vector))}\\n          = {' + '.join(map(str, probs_vector))}\\n          = {accu}\")"
   ]
  }
 ],
 "metadata": {
  "kernelspec": {
   "display_name": "Python 3",
   "language": "python",
   "name": "python3"
  },
  "language_info": {
   "codemirror_mode": {
    "name": "ipython",
    "version": 3
   },
   "file_extension": ".py",
   "mimetype": "text/x-python",
   "name": "python",
   "nbconvert_exporter": "python",
   "pygments_lexer": "ipython3",
   "version": "3.10.12"
  }
 },
 "nbformat": 4,
 "nbformat_minor": 2
}
