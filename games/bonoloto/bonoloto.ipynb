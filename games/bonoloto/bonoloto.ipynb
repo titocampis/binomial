{
 "cells": [
  {
   "cell_type": "code",
   "execution_count": 1,
   "metadata": {},
   "outputs": [
    {
     "name": "stderr",
     "output_type": "stream",
     "text": [
      "/home/acampos/.local/lib/python3.10/site-packages/matplotlib/projections/__init__.py:63: UserWarning: Unable to import Axes3D. This may be due to multiple versions of Matplotlib being installed (e.g. as a system package and as a pip package). As a result, the 3D projection is not available.\n",
      "  warnings.warn(\"Unable to import Axes3D. This may be due to multiple versions of \"\n"
     ]
    },
    {
     "data": {
      "image/png": "[encoded data removed]",
      "text/plain": [
       "<Figure size 432x288 with 1 Axes>"
      ]
     },
     "metadata": {
      "needs_background": "light"
     },
     "output_type": "display_data"
    },
    {
     "name": "stdout",
     "output_type": "stream",
     "text": [
      "Probabilidades de acertar 3, 4, 5-c, 5+c y 6 respectivamente en la Bonoloto: [0.4359649755116915, 0.4130194504847604, 0.13237802900152576, 0.017650403866870102, 0.000968619724401408, 1.8020832081886662e-05, 4.29067430521111e-07, 7.151123842018516e-08]\n",
      "[2.0000000e+00 2.0000000e+00 8.0000000e+00 5.7000000e+01 1.0320000e+03\n",
      " 5.5491000e+04 2.3306360e+06 1.3983816e+07]\n"
     ]
    }
   ],
   "source": [
    "# Imports\n",
    "import numpy as np\n",
    "import matplotlib.pyplot as plt\n",
    "import math\n",
    "import warnings\n",
    "\n",
    "# Supressing UserWarning: Unable to import Axes3D. \n",
    "#   This may be due to multiple versions of Matplotlib being installed (e.g. as a system package and as a pip package). \n",
    "#   As a result, the 3D projection is not available.\n",
    "warnings.filterwarnings(\"ignore\", category=UserWarning)\n",
    "\n",
    "# prob 3,4,5,6\n",
    "probs = []\n",
    "for k in range(0,8):\n",
    "  if (k == 5):\n",
    "    probs.append((math.comb(6, k) * math.comb(43, 6-k) / math.comb(49, 6)) * 42/43)\n",
    "  elif (k == 6):\n",
    "    probs.append(6 / math.comb(49,6) )\n",
    "  elif (k == 7):\n",
    "    probs.append(1 / math.comb(49, 6))\n",
    "  else:\n",
    "    probs.append(math.comb(6, k) * math.comb(43, 6-k) / math.comb(49, 6))\n",
    "\n",
    "plt.figure(1)\n",
    "axis_x = range(0, 8)\n",
    "plt.plot(axis_x, probs)\n",
    "plt.show()\n",
    "\n",
    "print(\"Probabilidades de acertar 3, 4, 5-c, 5+c y 6 respectivamente en la Bonoloto:\", probs)\n",
    "print(np.around(1/np.array(probs)))"
   ]
  }
 ],
 "metadata": {
  "kernelspec": {
   "display_name": "Python 3",
   "language": "python",
   "name": "python3"
  },
  "language_info": {
   "codemirror_mode": {
    "name": "ipython",
    "version": 3
   },
   "file_extension": ".py",
   "mimetype": "text/x-python",
   "name": "python",
   "nbconvert_exporter": "python",
   "pygments_lexer": "ipython3",
   "version": "3.10.12"
  }
 },
 "nbformat": 4,
 "nbformat_minor": 2
}
